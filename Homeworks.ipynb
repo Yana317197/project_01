{
  "nbformat": 4,
  "nbformat_minor": 0,
  "metadata": {
    "colab": {
      "provenance": []
    },
    "kernelspec": {
      "name": "python3",
      "display_name": "Python 3"
    },
    "language_info": {
      "name": "python"
    }
  },
  "cells": [
    {
      "cell_type": "code",
      "execution_count": null,
      "metadata": {
        "id": "81q2mAvKtPBr"
      },
      "outputs": [],
      "source": []
    },
    {
      "cell_type": "markdown",
      "source": [
        "#Задача 1.1.\n",
        "\n",
        "Есть строка с перечислением песен\n",
        "\n",
        "my_favorite_songs = 'Waste a Moment, Staying\\' Alive, A Sorta Fairytale, Start Me Up, New Salvation'\n",
        "\n",
        "Выведите на консоль с помощью индексации строки, последовательно: первый трек, последний, второй, второй с конца\n",
        "Нельзя переопределять my_favorite_songs и запятая не должна выводиться."
      ],
      "metadata": {
        "id": "cFLGAfUJtQAT"
      }
    },
    {
      "cell_type": "markdown",
      "source": [],
      "metadata": {
        "id": "QYCLLQiPzVAn"
      }
    },
    {
      "cell_type": "code",
      "source": [
        "my_favorite_songs = 'Waste a Moment, Staying\\' Alive, A Sorta Fairytale, Start Me Up, New Salvation'\n",
        "print(\"Первый трек: \", my_favorite_songs [:14],\n",
        "      \"Последний трек: \", my_favorite_songs [-13:-1],\n",
        "      \"Второй трек: \",my_favorite_songs [16:30],\n",
        "      \"Второй с конца: \",my_favorite_songs [-26:-15])\n"
      ],
      "metadata": {
        "colab": {
          "base_uri": "https://localhost:8080/"
        },
        "id": "alfXZR-xyjSR",
        "outputId": "0c7a26ee-960b-4429-d3dd-b9a08872ec85"
      },
      "execution_count": null,
      "outputs": [
        {
          "output_type": "stream",
          "name": "stdout",
          "text": [
            "Первый трек:  Waste a Moment ,Последний трек:  New Salvatio ,Второй трек:  Staying' Alive ,Второй с конца:  Start Me Up\n"
          ]
        }
      ]
    },
    {
      "cell_type": "markdown",
      "source": [
        "## Задача 1.2.\n",
        "\n",
        "#Пункт A.\n",
        "Приведем плейлист песен в виде списка списков\n",
        "Список my_favorite_songs содержит список названий и длительности каждого трека\n",
        "Выведите общее время звучания трех случайных песен в формате\n",
        "Три песни звучат ХХХ минут\n",
        "\n",
        "my_favorite_songs = [\\\n",
        "   ['Waste a Moment', 3.03],\\\n",
        "    ['New Salvation', 4.02],\\\n",
        "    ['Staying\\' Alive', 3.40],\\\n",
        "    ['Out of Touch', 3.03],\\\n",
        "    ['A Sorta Fairytale', 5.28],\\\n",
        "    ['Easy', 4.15],\\\n",
        "    ['Beautiful Day', 4.04],\\\n",
        "    ['Nowhere to Run', 2.58],\\\n",
        "    ['In This World', 4.02],\n",
        "]\n",
        "\n",
        "#Пункт B.\n",
        "Есть словарь песен\n",
        "Распечатайте общее время звучания трех случайных песен\n",
        "Вывод: Три песни звучат ХХХ минут."
      ],
      "metadata": {
        "id": "xk53RClQ2PAB"
      }
    },
    {
      "cell_type": "code",
      "source": [
        "my_favorite_songs = [\n",
        "['Waste a Moment', 3.03],\n",
        "['New Salvation', 4.02],\n",
        "['Staying Alive', 3.40],\n",
        "['Out of Touch', 3.03],\n",
        "['A Sorta Fairytale', 5.28],\n",
        "['Easy', 4.15],\n",
        "['Beautiful Day', 4.04],\n",
        "['Nowhere to Run', 2.58],\n",
        "['In This World', 4.02], ]\n",
        "a= float(input( \"Выберите случайный первый трек, напишите его длительность \"))\n",
        "b= float(input( \"Выберите случайный второй трек, напишите его длительность \"))\n",
        "d= float(input(\"Выберите случайный третий трек, напишите его длительность \"))\n",
        "print(\"Три песни звучат \", a+b+d, \" минут\")\n"
      ],
      "metadata": {
        "colab": {
          "base_uri": "https://localhost:8080/"
        },
        "id": "htOW0u9c4Bux",
        "outputId": "4f31f8a9-6014-49d5-b00f-0a4109156512"
      },
      "execution_count": null,
      "outputs": [
        {
          "output_type": "stream",
          "name": "stdout",
          "text": [
            "Выберите случайный первый трек, напишите его длительность 2.58\n",
            "Выберите случайный второй трек, напишите его длительность 4.02\n",
            "Выберите случайный третий трек, напишите его длительность 3.03\n",
            "Три песни звучат  9.629999999999999  минут\n"
          ]
        }
      ]
    },
    {
      "cell_type": "markdown",
      "source": [
        "# Задача 1.3.\n",
        "\n",
        " Напишите скрипт, который принимает от пользователя номер месяца, а возвращает количество дней в нем. Результат проверки вывести на консоль.\n",
        " Допущение: в феврале 28 дней. Если номер месяца некорректен - сообщить об этом\n",
        "\n",
        "Например\n",
        "\n",
        "    Введите номер месяца: 3\n",
        "    Вы ввели март. 31 дней\n",
        "    Введите номер месяца: 2\n",
        "    Вы ввели февраль. 28 дней\n",
        "    Введите номер месяца: 15\n",
        "    Такого месяца нет!"
      ],
      "metadata": {
        "id": "28uDd8C7Ga9h"
      }
    },
    {
      "cell_type": "code",
      "source": [
        "namber_month= input(\"введите номер месяца\")\n",
        "month=[январь, февраль, март, апрель, май, июнь, июль, август, сентябрь, октябрь, ноябрь, декабрь]\n"
      ],
      "metadata": {
        "id": "-7iGoa-SHDXr"
      },
      "execution_count": null,
      "outputs": []
    }
  ]
}