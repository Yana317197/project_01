{
  "nbformat": 4,
  "nbformat_minor": 0,
  "metadata": {
    "colab": {
      "provenance": [],
      "toc_visible": true,
      "authorship_tag": "ABX9TyNAXjaod/rqatjS+0EwhJbz",
      "include_colab_link": true
    },
    "kernelspec": {
      "name": "python3",
      "display_name": "Python 3"
    },
    "language_info": {
      "name": "python"
    }
  },
  "cells": [
    {
      "cell_type": "markdown",
      "metadata": {
        "id": "view-in-github",
        "colab_type": "text"
      },
      "source": [
        "<a href=\"https://colab.research.google.com/github/Yana317197/project_01/blob/main/Homeworks.ipynb\" target=\"_parent\"><img src=\"https://colab.research.google.com/assets/colab-badge.svg\" alt=\"Open In Colab\"/></a>"
      ]
    },
    {
      "cell_type": "code",
      "execution_count": null,
      "metadata": {
        "id": "81q2mAvKtPBr"
      },
      "outputs": [],
      "source": []
    },
    {
      "cell_type": "markdown",
      "source": [
        "#Задача 1.1.\n",
        "\n",
        "Есть строка с перечислением песен\n",
        "\n",
        "my_favorite_songs = 'Waste a Moment, Staying\\' Alive, A Sorta Fairytale, Start Me Up, New Salvation'\n",
        "\n",
        "Выведите на консоль с помощью индексации строки, последовательно: первый трек, последний, второй, второй с конца\n",
        "Нельзя переопределять my_favorite_songs и запятая не должна выводиться."
      ],
      "metadata": {
        "id": "cFLGAfUJtQAT"
      }
    },
    {
      "cell_type": "markdown",
      "source": [],
      "metadata": {
        "id": "QYCLLQiPzVAn"
      }
    },
    {
      "cell_type": "code",
      "source": [
        "my_favorite_songs = 'Waste a Moment, Staying\\' Alive, A Sorta Fairytale, Start Me Up, New Salvation'\n",
        "print(\"Первый трек: \", my_favorite_songs [:14],\n",
        "      \"Последний трек: \", my_favorite_songs [-13:-1],\n",
        "      \"Второй трек: \",my_favorite_songs [16:30],\n",
        "      \"Второй с конца: \",my_favorite_songs [-26:-15])\n"
      ],
      "metadata": {
        "colab": {
          "base_uri": "https://localhost:8080/"
        },
        "id": "alfXZR-xyjSR",
        "outputId": "0c7a26ee-960b-4429-d3dd-b9a08872ec85"
      },
      "execution_count": null,
      "outputs": [
        {
          "output_type": "stream",
          "name": "stdout",
          "text": [
            "Первый трек:  Waste a Moment ,Последний трек:  New Salvatio ,Второй трек:  Staying' Alive ,Второй с конца:  Start Me Up\n"
          ]
        }
      ]
    },
    {
      "cell_type": "markdown",
      "source": [
        "## Задача 1.2.\n",
        "\n",
        "#Пункт A.\n",
        "Приведем плейлист песен в виде списка списков\n",
        "Список my_favorite_songs содержит список названий и длительности каждого трека\n",
        "Выведите общее время звучания трех случайных песен в формате\n",
        "Три песни звучат ХХХ минут\n",
        "\n",
        "my_favorite_songs = [\\\n",
        "   ['Waste a Moment', 3.03],\\\n",
        "    ['New Salvation', 4.02],\\\n",
        "    ['Staying\\' Alive', 3.40],\\\n",
        "    ['Out of Touch', 3.03],\\\n",
        "    ['A Sorta Fairytale', 5.28],\\\n",
        "    ['Easy', 4.15],\\\n",
        "    ['Beautiful Day', 4.04],\\\n",
        "    ['Nowhere to Run', 2.58],\\\n",
        "    ['In This World', 4.02],\n",
        "]\n",
        "\n",
        "#Пункт B.\n",
        "Есть словарь песен\n",
        "Распечатайте общее время звучания трех случайных песен\n",
        "Вывод: Три песни звучат ХХХ минут."
      ],
      "metadata": {
        "id": "xk53RClQ2PAB"
      }
    },
    {
      "cell_type": "code",
      "source": [
        "my_favorite_songs = [\n",
        "['Waste a Moment', 3.03],\n",
        "['New Salvation', 4.02],\n",
        "['Staying Alive', 3.40],\n",
        "['Out of Touch', 3.03],\n",
        "['A Sorta Fairytale', 5.28],\n",
        "['Easy', 4.15],\n",
        "['Beautiful Day', 4.04],\n",
        "['Nowhere to Run', 2.58],\n",
        "['In This World', 4.02], ]\n",
        "a= float(input( \"Выберите случайный первый трек, напишите его длительность \"))\n",
        "b= float(input( \"Выберите случайный второй трек, напишите его длительность \"))\n",
        "d= float(input(\"Выберите случайный третий трек, напишите его длительность \"))\n",
        "print(\"Три песни звучат \", a+b+d, \" минут\")\n"
      ],
      "metadata": {
        "colab": {
          "base_uri": "https://localhost:8080/"
        },
        "id": "htOW0u9c4Bux",
        "outputId": "4f31f8a9-6014-49d5-b00f-0a4109156512"
      },
      "execution_count": null,
      "outputs": [
        {
          "output_type": "stream",
          "name": "stdout",
          "text": [
            "Выберите случайный первый трек, напишите его длительность 2.58\n",
            "Выберите случайный второй трек, напишите его длительность 4.02\n",
            "Выберите случайный третий трек, напишите его длительность 3.03\n",
            "Три песни звучат  9.629999999999999  минут\n"
          ]
        }
      ]
    },
    {
      "cell_type": "markdown",
      "source": [
        "# Задача 1.3.\n",
        "\n",
        " Напишите скрипт, который принимает от пользователя номер месяца, а возвращает количество дней в нем. Результат проверки вывести на консоль.\n",
        " Допущение: в феврале 28 дней. Если номер месяца некорректен - сообщить об этом\n",
        "\n",
        "Например\n",
        "\n",
        "    Введите номер месяца: 3\n",
        "    Вы ввели март. 31 дней\n",
        "    Введите номер месяца: 2\n",
        "    Вы ввели февраль. 28 дней\n",
        "    Введите номер месяца: 15\n",
        "    Такого месяца нет!"
      ],
      "metadata": {
        "id": "28uDd8C7Ga9h"
      }
    },
    {
      "cell_type": "code",
      "source": [
        "-\n",
        "namber_month= int(input(\"введите номер месяца: \"))\n",
        "\n",
        "month= {'январь': 1,\n",
        "        'февраль': 2,\n",
        "        'март': 3 ,\n",
        "        'апрель': 4,\n",
        "        'май': 5,\n",
        "        'июнь': 6,\n",
        "        'июль': 7,\n",
        "        'август': 8,\n",
        "        'сентябрь': 9,\n",
        "        'октябрь': 10,\n",
        "        'ноябрь': 11,\n",
        "        'декабрь': 12 }\n",
        "\n",
        "\n",
        "monthh= {'январь': 31,\n",
        "        'февраль': 28,\n",
        "        'март': 31 ,\n",
        "        'апрель': 30,\n",
        "         'май': 31,\n",
        "         'июнь': 30,\n",
        "         'июль': 31,\n",
        "         'август': 31,\n",
        "         'сентябрь': 30,\n",
        "        'октябрь': 31,\n",
        "        'ноябрь': 30,\n",
        "        'декабрь': 31 }\n",
        "new_monthh=[]\n",
        "new_month=[]\n",
        "for c in month:\n",
        "  if month[c]== namber_month:\n",
        "     a= month.get(i)\n",
        "print (a)\n",
        "for i in monthh:\n",
        "  if monthh[i] == 31:\n",
        "    new_monthh.append(i)\n",
        "print(new_monthh)\n",
        "......\n",
        "\n",
        "\n",
        "\n"
      ],
      "metadata": {
        "id": "-7iGoa-SHDXr",
        "colab": {
          "base_uri": "https://localhost:8080/"
        },
        "outputId": "29b37489-9a4f-4e95-aa66-13650c2b198e"
      },
      "execution_count": 67,
      "outputs": [
        {
          "output_type": "stream",
          "name": "stdout",
          "text": [
            "введите номер месяца: 1\n",
            "12\n",
            "['январь', 'март', 'май', 'июль', 'август', 'октябрь', 'декабрь']\n"
          ]
        }
      ]
    },
    {
      "cell_type": "markdown",
      "source": [
        "Рассчитайте на какую сумму лежит каждого товара на складе.\n",
        "\n",
        "Вывести суммарную стоимость каждого товара в магазине в формате:\n",
        "\"<товар> - <кол-во> шт, стоимость <общая стоимость> руб\"\n",
        "\n",
        " Пример: \"Кроссовки тип 3 (Adidas) - 31 шт, стоимость 50747 руб\""
      ],
      "metadata": {
        "id": "GNJImUA5nqAk"
      }
    },
    {
      "cell_type": "code",
      "source": [],
      "metadata": {
        "id": "qRXKkquOhqBr"
      },
      "execution_count": null,
      "outputs": []
    },
    {
      "cell_type": "code",
      "source": [
        "\n",
        "titles = {\n",
        "    'Кроссовки тип 3 (Adidas)': '100000110',\n",
        "    'Мячик тип 2 (Adidas)': '100000146',\n",
        "    'Кепка тип 1 (Adidas)': '100000149',\n",
        "    'Ремень тип 2 (Nike)': '100000194',\n",
        "    'Футболка тип 1 (Adidas)': '100000224',\n",
        "    'Шапка тип 5 (Puma)': '100000280'}\n",
        "store = {\n",
        "    '100000110': [{'quantity': 31, 'price': 1637}],\n",
        "    '100000146': [ {'quantity': 4, 'price': 45}, {'quantity': 10, 'price': 48}],\n",
        "    '100000149': [ {'quantity': 28, 'price': 279}, {'quantity': 32, 'price': 291}],\n",
        "    '100000194': [{'quantity': 8, 'price': 220}, {'quantity': 1, 'price': 170}],\n",
        "    '100000224': [{'quantity': 61, 'price': 438}, {'quantity': 23, 'price': 302},  {'quantity': 50, 'price': 412}],\n",
        "    '100000280': [{'quantity': 26, 'price': 175}, ]}\n",
        "for i in titles:\n",
        "  a=(titles[i])\n",
        "  b= store.get(a)\n",
        "  for c in store[a]:\n",
        "    d= c['quantity']*c['price']\n",
        "    f=c['quantity']\n",
        "    print(i, '-',f, 'шт, стоимость', d, 'руб')\n"
      ],
      "metadata": {
        "colab": {
          "base_uri": "https://localhost:8080/"
        },
        "id": "20z2MLEBm5lO",
        "outputId": "89fe04eb-be76-4706-8be6-a6c115e3eaac"
      },
      "execution_count": 33,
      "outputs": [
        {
          "output_type": "stream",
          "name": "stdout",
          "text": [
            "Кроссовки тип 3 (Adidas) - 31 шт, стоимость 50747 руб\n",
            "Мячик тип 2 (Adidas) - 4 шт, стоимость 180 руб\n",
            "Мячик тип 2 (Adidas) - 10 шт, стоимость 480 руб\n",
            "Кепка тип 1 (Adidas) - 28 шт, стоимость 7812 руб\n",
            "Кепка тип 1 (Adidas) - 32 шт, стоимость 9312 руб\n",
            "Ремень тип 2 (Nike) - 8 шт, стоимость 1760 руб\n",
            "Ремень тип 2 (Nike) - 1 шт, стоимость 170 руб\n",
            "Футболка тип 1 (Adidas) - 61 шт, стоимость 26718 руб\n",
            "Футболка тип 1 (Adidas) - 23 шт, стоимость 6946 руб\n",
            "Футболка тип 1 (Adidas) - 50 шт, стоимость 20600 руб\n",
            "Шапка тип 5 (Puma) - 26 шт, стоимость 4550 руб\n"
          ]
        }
      ]
    },
    {
      "cell_type": "markdown",
      "source": [
        "Задача 2.1.\n",
        "\n",
        "# Создайте две функции maximum и minimum,\n",
        "# которые получают список целых чисел в качестве входных данных\n",
        "# и возвращают наибольшее и наименьшее число в этом списке соответственно.\n",
        "# Например,\n",
        "# * [4,6,2,1,9,63,-134,566]         -> max = 566, min = -134\n",
        "# * [-52, 56, 30, 29, -54, 0, -110] -> min = -110, max = 56\n",
        "# * [42, 54, 65, 87, 0]             -> min = 0, max = 87\n",
        "# * [5]                             -> min = 5, max = 5\n",
        "# функции max и min использовать нельзя!\n",
        "\n",
        "def minimum(arr):\n",
        "    pass\n",
        "\n",
        "def maximum(arr):\n",
        "    pass"
      ],
      "metadata": {
        "id": "TUpl9OOhkq5r"
      }
    },
    {
      "cell_type": "code",
      "source": [
        "\n",
        "\n",
        "\n",
        "list=[\n",
        " [4,6,2,1,9,63,-134,566],\n",
        " [-52, 56, 30, 29, -54, 0, -110],\n",
        " [42, 54, 65, 87, 0],\n",
        " [5]\n",
        "]\n",
        "\n",
        "for arr in list:\n",
        "  def minimum(arr):\n",
        "    for i in range(len(arr)):\n",
        "      j = i-1\n",
        "      val = arr[i]\n",
        "      while arr[j] > val and j >= 0:\n",
        "        arr[j + 1] = arr[j]\n",
        "        j -= 1\n",
        "      arr[j + 1] = val\n",
        "    return arr[0]\n",
        "  def maximum(arr):\n",
        "    for i in range(len(arr)):\n",
        "      j = i-1\n",
        "      val = arr[i]\n",
        "      while arr[j] > val and j >= 0:\n",
        "        arr[j + 1] = arr[j]\n",
        "        j -= 1\n",
        "      arr[j + 1] = val\n",
        "    return arr[-1]\n",
        "print(arr, f'-> max = {maximum(arr)}, -> min = {minimum(arr)} ')\n",
        ""
      ],
      "metadata": {
        "colab": {
          "base_uri": "https://localhost:8080/"
        },
        "id": "o8yFNaQlk7Ha",
        "outputId": "97a0b177-a8e3-42bb-e0be-7a5115bf0c10"
      },
      "execution_count": 18,
      "outputs": [
        {
          "output_type": "stream",
          "name": "stdout",
          "text": [
            "[5] -> max = 5, -> min = 5 \n"
          ]
        }
      ]
    },
    {
      "cell_type": "markdown",
      "source": [
        "#задача 2.2.\n",
        "\n",
        "# Напишите функцию, которая возвращает номер квартал по номеру месяца\n",
        "Например:\n",
        "месяц 2 (февраль) является частью первого квартала;\n",
        "месяц 6 (июнь) является частью второго квартала;\n",
        "месяц 11 (ноябрь) является частью четвертого квартала.\n"
      ],
      "metadata": {
        "id": "oaFVgJLIQVNn"
      }
    },
    {
      "cell_type": "code",
      "source": [],
      "metadata": {
        "id": "OxVi9SocQd3m"
      },
      "execution_count": 28,
      "outputs": []
    },
    {
      "cell_type": "markdown",
      "source": [],
      "metadata": {
        "id": "Ypgr5DhChu5g"
      }
    },
    {
      "cell_type": "code",
      "source": [
        "#4.1\n",
        "import sqlite3\n",
        "\n",
        "def get_school_name(school_id):\n",
        "  can = sqlite3.connect('Schools.db')\n",
        "  cur = can.cursor()\n",
        "  query = 'SELECT * From School Where School_id -)'\n",
        "  cur.execute(query\n",
        "              ,(school_id,))\n",
        "  rec = cur.fetchone()\n",
        "  can.close()\n",
        "  return rec[1]\n",
        "\n",
        "def get_student(student_id):\n",
        "  can = sqlite3.connect('Students.db')\n",
        "  cur = can.cursor()\n",
        "  query = 'SELECT * From Students Where Students_id -)'\n",
        "  cur.execute(query,(students_id,))\n",
        "  rec = cur.fetchall()\n",
        "  for raw in rec:\n",
        "    print('ИД Студ',raw[0])\n",
        "    print('Имя Студ',raw[1])\n",
        "    print('Ид школы',raw[2])\n",
        "    print('Название школы', get_school_name(raw[2]))\n",
        "ins= input('Номер студента от 201 до 204')\n",
        "get_sudent(ins)\n",
        "\n"
      ],
      "metadata": {
        "colab": {
          "base_uri": "https://localhost:8080/",
          "height": 380
        },
        "id": "KD-g0prXjuSj",
        "outputId": "af57793e-0042-40b2-bfeb-c5451dc8f028"
      },
      "execution_count": 36,
      "outputs": [
        {
          "output_type": "error",
          "ename": "KeyboardInterrupt",
          "evalue": "ignored",
          "traceback": [
            "\u001b[0;31m---------------------------------------------------------------------------\u001b[0m",
            "\u001b[0;31mKeyboardInterrupt\u001b[0m                         Traceback (most recent call last)",
            "\u001b[0;32m<ipython-input-36-8d5c88ddac12>\u001b[0m in \u001b[0;36m<cell line: 25>\u001b[0;34m()\u001b[0m\n\u001b[1;32m     23\u001b[0m     \u001b[0mprint\u001b[0m\u001b[0;34m(\u001b[0m\u001b[0;34m'Ид школы'\u001b[0m\u001b[0;34m,\u001b[0m\u001b[0mraw\u001b[0m\u001b[0;34m[\u001b[0m\u001b[0;36m2\u001b[0m\u001b[0;34m]\u001b[0m\u001b[0;34m)\u001b[0m\u001b[0;34m\u001b[0m\u001b[0;34m\u001b[0m\u001b[0m\n\u001b[1;32m     24\u001b[0m     \u001b[0mprint\u001b[0m\u001b[0;34m(\u001b[0m\u001b[0;34m'Название школы'\u001b[0m\u001b[0;34m,\u001b[0m \u001b[0mget_school_name\u001b[0m\u001b[0;34m(\u001b[0m\u001b[0mraw\u001b[0m\u001b[0;34m[\u001b[0m\u001b[0;36m2\u001b[0m\u001b[0;34m]\u001b[0m\u001b[0;34m)\u001b[0m\u001b[0;34m)\u001b[0m\u001b[0;34m\u001b[0m\u001b[0;34m\u001b[0m\u001b[0m\n\u001b[0;32m---> 25\u001b[0;31m \u001b[0mins\u001b[0m\u001b[0;34m=\u001b[0m \u001b[0minput\u001b[0m\u001b[0;34m(\u001b[0m\u001b[0;34m'Номер студента от 201 до 204'\u001b[0m\u001b[0;34m)\u001b[0m\u001b[0;34m\u001b[0m\u001b[0;34m\u001b[0m\u001b[0m\n\u001b[0m\u001b[1;32m     26\u001b[0m \u001b[0mget_sudent\u001b[0m\u001b[0;34m(\u001b[0m\u001b[0mins\u001b[0m\u001b[0;34m)\u001b[0m\u001b[0;34m\u001b[0m\u001b[0;34m\u001b[0m\u001b[0m\n\u001b[1;32m     27\u001b[0m \u001b[0;34m\u001b[0m\u001b[0m\n",
            "\u001b[0;32m/usr/local/lib/python3.10/dist-packages/ipykernel/kernelbase.py\u001b[0m in \u001b[0;36mraw_input\u001b[0;34m(self, prompt)\u001b[0m\n\u001b[1;32m    849\u001b[0m                 \u001b[0;34m\"raw_input was called, but this frontend does not support input requests.\"\u001b[0m\u001b[0;34m\u001b[0m\u001b[0;34m\u001b[0m\u001b[0m\n\u001b[1;32m    850\u001b[0m             )\n\u001b[0;32m--> 851\u001b[0;31m         return self._input_request(str(prompt),\n\u001b[0m\u001b[1;32m    852\u001b[0m             \u001b[0mself\u001b[0m\u001b[0;34m.\u001b[0m\u001b[0m_parent_ident\u001b[0m\u001b[0;34m,\u001b[0m\u001b[0;34m\u001b[0m\u001b[0;34m\u001b[0m\u001b[0m\n\u001b[1;32m    853\u001b[0m             \u001b[0mself\u001b[0m\u001b[0;34m.\u001b[0m\u001b[0m_parent_header\u001b[0m\u001b[0;34m,\u001b[0m\u001b[0;34m\u001b[0m\u001b[0;34m\u001b[0m\u001b[0m\n",
            "\u001b[0;32m/usr/local/lib/python3.10/dist-packages/ipykernel/kernelbase.py\u001b[0m in \u001b[0;36m_input_request\u001b[0;34m(self, prompt, ident, parent, password)\u001b[0m\n\u001b[1;32m    893\u001b[0m             \u001b[0;32mexcept\u001b[0m \u001b[0mKeyboardInterrupt\u001b[0m\u001b[0;34m:\u001b[0m\u001b[0;34m\u001b[0m\u001b[0;34m\u001b[0m\u001b[0m\n\u001b[1;32m    894\u001b[0m                 \u001b[0;31m# re-raise KeyboardInterrupt, to truncate traceback\u001b[0m\u001b[0;34m\u001b[0m\u001b[0;34m\u001b[0m\u001b[0m\n\u001b[0;32m--> 895\u001b[0;31m                 \u001b[0;32mraise\u001b[0m \u001b[0mKeyboardInterrupt\u001b[0m\u001b[0;34m(\u001b[0m\u001b[0;34m\"Interrupted by user\"\u001b[0m\u001b[0;34m)\u001b[0m \u001b[0;32mfrom\u001b[0m \u001b[0;32mNone\u001b[0m\u001b[0;34m\u001b[0m\u001b[0;34m\u001b[0m\u001b[0m\n\u001b[0m\u001b[1;32m    896\u001b[0m             \u001b[0;32mexcept\u001b[0m \u001b[0mException\u001b[0m \u001b[0;32mas\u001b[0m \u001b[0me\u001b[0m\u001b[0;34m:\u001b[0m\u001b[0;34m\u001b[0m\u001b[0;34m\u001b[0m\u001b[0m\n\u001b[1;32m    897\u001b[0m                 \u001b[0mself\u001b[0m\u001b[0;34m.\u001b[0m\u001b[0mlog\u001b[0m\u001b[0;34m.\u001b[0m\u001b[0mwarning\u001b[0m\u001b[0;34m(\u001b[0m\u001b[0;34m\"Invalid Message:\"\u001b[0m\u001b[0;34m,\u001b[0m \u001b[0mexc_info\u001b[0m\u001b[0;34m=\u001b[0m\u001b[0;32mTrue\u001b[0m\u001b[0;34m)\u001b[0m\u001b[0;34m\u001b[0m\u001b[0;34m\u001b[0m\u001b[0m\n",
            "\u001b[0;31mKeyboardInterrupt\u001b[0m: Interrupted by user"
          ]
        }
      ]
    }
  ]
}